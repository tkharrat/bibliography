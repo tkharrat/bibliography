{
 "cells": [
  {
   "cell_type": "markdown",
   "metadata": {},
   "source": [
    "# My published papers"
   ]
  },
  {
   "cell_type": "markdown",
   "metadata": {},
   "source": [
    "Below the list of my published papers:\n",
    "- First paper published in applied mathematics <cite data-cite=\"7448072/3MXDC4WY\"></cite>\n",
    "- A statistical paper describing a predictive model in football <cite data-cite=\"7448072/YC6SGSWG\"></cite>\n",
    "- Some theory and software around event count processes: <cite data-cite=\"7448072/NXI3K8Z5\"></cite> and <cite data-cite=\"7448072/KHPEYX8S\"></cite>\n",
    "- A new rating system for evaluation influence of football players <cite data-cite=\"7448072/SLEVI7T2\"></cite>"
   ]
  },
  {
   "cell_type": "markdown",
   "metadata": {},
   "source": [
    "# Bibliography"
   ]
  },
  {
   "cell_type": "markdown",
   "metadata": {},
   "source": [
    "<div class=\"cite2c-biblio\"></div>"
   ]
  },
  {
   "cell_type": "code",
   "execution_count": null,
   "metadata": {},
   "outputs": [],
   "source": []
  }
 ],
 "metadata": {
  "cite2c": {
   "citations": {
    "7448072/3MXDC4WY": {
     "DOI": "10.1016/j.jsv.2012.05.029",
     "URL": "http://adsabs.harvard.edu/abs/2012JSV...331.4774H",
     "abstract": "This paper is concerned with the radiation of sound waves from a submerged cylindrical body which is coated by an imperfect elastic layer; that is, the coating only covers part of the cylinder. The focus of the study is to quantify the effect of the gap in the elastic layer on the radiated acoustic power. A finite element method is employed to determine the acoustic pressure field in the fluid and the displacement field in the coupled layer. This reveals that the effect of a modest sized gap in the coating does not markedly alter the radiated field except at distinct frequencies, at which values the coating exhibits strong fluid-coupled oscillations. We develop a simple analytical model to explain the resonance phenomenon and show that quasi-resonances arise when the wavelength of the deformation pattern 'matches' the azimuthal length of the surface of the coating. This resonant behaviour is conveniently captured by a single parameter Q, which is the ratio of the typical inertial fluid pressure induced by the wall oscillation to the stiffness of the elastic coating. For each choice of material\nparameters, there is shown to be an infinite set of values of Q\ncorresponding to distinct quasi-resonance mode numbers. The effects on the radiated field due to variations in various physical parameters, such as acoustic wavenumber and elastic layer inertia, are also\ndiscussed.",
     "accessed": {
      "day": 27,
      "month": 12,
      "year": 2019
     },
     "author": [
      {
       "family": "Heil",
       "given": "Matthias"
      },
      {
       "family": "Kharrat",
       "given": "Tarak"
      },
      {
       "family": "Cotterill",
       "given": "Philip A."
      },
      {
       "family": "David Abrahams",
       "given": "I."
      }
     ],
     "container-title": "Journal of Sound Vibration",
     "container-title-short": "Journal of Sound Vibration",
     "id": "7448072/3MXDC4WY",
     "issued": {
      "day": 1,
      "month": 10,
      "year": 2012
     },
     "journalAbbreviation": "Journal of Sound Vibration",
     "page": "4774-4784",
     "page-first": "4774",
     "title": "Quasi-resonances in sound-insulating coatings",
     "type": "article-journal",
     "volume": "331"
    },
    "7448072/KHPEYX8S": {
     "DOI": "10.18637/jss.v090.i13",
     "URL": "https://www.jstatsoft.org/index.php/jss/article/view/v090i13",
     "accessed": {
      "day": 27,
      "month": 12,
      "year": 2019
     },
     "author": [
      {
       "family": "Kharrat",
       "given": "Tarak"
      },
      {
       "family": "Boshnakov",
       "given": "Georgi N."
      },
      {
       "family": "McHale",
       "given": "Ian"
      },
      {
       "family": "Baker",
       "given": "Rose"
      }
     ],
     "container-title": "Journal of Statistical Software",
     "id": "7448072/KHPEYX8S",
     "issue": "1",
     "issued": {
      "day": 21,
      "month": 8,
      "year": 2019
     },
     "language": "en",
     "page": "1-35",
     "page-first": "1",
     "shortTitle": "Flexible Regression Models for Count Data Based on Renewal Processes",
     "title": "Flexible Regression Models for Count Data Based on Renewal Processes: The Countr Package",
     "title-short": "Flexible Regression Models for Count Data Based on Renewal Processes",
     "type": "article-journal",
     "volume": "90"
    },
    "7448072/NXI3K8Z5": {
     "DOI": "10.1093/imaman/dpx008",
     "URL": "https://academic.oup.com/imaman/article/29/4/415/4071253",
     "abstract": "Abstract.  Discrete distributions derived from renewal processes, i.e. distributions of the number of events by some time $t$, are beginning to be used in manag",
     "accessed": {
      "day": 27,
      "month": 12,
      "year": 2019
     },
     "author": [
      {
       "family": "Baker",
       "given": "Rose"
      },
      {
       "family": "Kharrat",
       "given": "Tarak"
      }
     ],
     "container-title": "IMA Journal of Management Mathematics",
     "container-title-short": "IMA J Management Math",
     "id": "7448072/NXI3K8Z5",
     "issue": "4",
     "issued": {
      "day": 7,
      "month": 9,
      "year": 2018
     },
     "journalAbbreviation": "IMA J Management Math",
     "language": "en",
     "page": "415-433",
     "page-first": "415",
     "shortTitle": "Event count distributions from renewal processes",
     "title": "Event count distributions from renewal processes: fast computation of probabilities",
     "title-short": "Event count distributions from renewal processes",
     "type": "article-journal",
     "volume": "29"
    },
    "7448072/SLEVI7T2": {
     "DOI": "10.1016/j.ejor.2019.11.026",
     "URL": "http://www.sciencedirect.com/science/article/pii/S0377221719309373",
     "abstract": "The paper presents plus–minus ratings for use in association football (soccer). We first describe the general plus–minus methodology as used in basketball and ice-hockey and then adapt it for use in soccer. The usual goal-differential plus–minus is considered before two new variations are proposed. For the first variation, we present a methodology to calculate an expected goals plus–minus rating. The second variation makes use of in-play probabilities of match outcome to evaluate an expected points plus–minus rating. We use the ratings to examine who are the best players in European football, and demonstrate how the players’ ratings evolve over time. Finally, we shed light on the debate regarding which is the strongest league. The model suggests the English Premier League is the strongest, with the German Bundesliga a close runner-up.",
     "accessed": {
      "day": 27,
      "month": 12,
      "year": 2019
     },
     "author": [
      {
       "family": "Kharrat",
       "given": "Tarak"
      },
      {
       "family": "McHale",
       "given": "Ian G."
      },
      {
       "family": "Peña",
       "given": "Javier López"
      }
     ],
     "container-title": "European Journal of Operational Research",
     "container-title-short": "European Journal of Operational Research",
     "id": "7448072/SLEVI7T2",
     "issued": {
      "day": 26,
      "month": 11,
      "year": 2019
     },
     "journalAbbreviation": "European Journal of Operational Research",
     "language": "en",
     "title": "Plus–minus player ratings for soccer",
     "type": "article-journal"
    },
    "7448072/YC6SGSWG": {
     "DOI": "10.1016/j.ijforecast.2016.11.006",
     "URL": "http://www.sciencedirect.com/science/article/pii/S0169207017300018",
     "abstract": "The paper presents a model for forecasting association football scores. The model uses a Weibull inter-arrival-times-based count process and a copula to produce a bivariate distribution of the numbers of goals scored by the home and away teams in a match. We test it against a variety of alternatives, including the simpler Poisson distribution-based model and an independent version of our model. The out-of-sample performance of our methodology is illustrated using, first, calibration curves, then a Kelly-type betting strategy that is applied to the pre-match win/draw/loss market and to the over–under 2.5 goals market. The new model provides an improved fit to the data relative to previous models, and results in positive returns to betting.",
     "accessed": {
      "day": 27,
      "month": 12,
      "year": 2019
     },
     "author": [
      {
       "family": "Boshnakov",
       "given": "Georgi"
      },
      {
       "family": "Kharrat",
       "given": "Tarak"
      },
      {
       "family": "McHale",
       "given": "Ian G."
      }
     ],
     "container-title": "International Journal of Forecasting",
     "container-title-short": "International Journal of Forecasting",
     "id": "7448072/YC6SGSWG",
     "issue": "2",
     "issued": {
      "day": 1,
      "month": 4,
      "year": 2017
     },
     "journalAbbreviation": "International Journal of Forecasting",
     "language": "en",
     "page": "458-466",
     "page-first": "458",
     "title": "A bivariate Weibull count model for forecasting association football scores",
     "type": "article-journal",
     "volume": "33"
    }
   }
  },
  "kernelspec": {
   "display_name": "Python 3",
   "language": "python",
   "name": "python3"
  },
  "language_info": {
   "codemirror_mode": {
    "name": "ipython",
    "version": 3
   },
   "file_extension": ".py",
   "mimetype": "text/x-python",
   "name": "python",
   "nbconvert_exporter": "python",
   "pygments_lexer": "ipython3",
   "version": "3.7.4"
  }
 },
 "nbformat": 4,
 "nbformat_minor": 2
}
