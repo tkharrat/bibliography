{
 "cells": [
  {
   "cell_type": "markdown",
   "metadata": {},
   "source": [
    "# My papers"
   ]
  },
  {
   "cell_type": "markdown",
   "metadata": {},
   "source": [
    "``\n",
    "\n",
    "<!--bibtex\n",
    "\n",
    "@article{heil2012quasi,\n",
    "  title={Quasi-resonances in sound-insulating coatings},\n",
    "  author={Heil, Matthias and Kharrat, Tarak and Cotterill, Philip A and Abrahams, I David},\n",
    "  journal={Journal of Sound and Vibration},\n",
    "  volume={331},\n",
    "  number={21},\n",
    "  pages={4774--4784},\n",
    "  year={2012},\n",
    "  publisher={Elsevier}\n",
    "}\n",
    "\n",
    "@article{boshnakov2017bivariate,\n",
    "  title={A bivariate Weibull count model for forecasting association football scores},\n",
    "  author={Boshnakov, Georgi and Kharrat, Tarak and McHale, Ian G},\n",
    "  journal={International Journal of Forecasting},\n",
    "  volume={33},\n",
    "  number={2},\n",
    "  pages={458--466},\n",
    "  year={2017},\n",
    "  publisher={Elsevier}\n",
    "}\n",
    "\n",
    "@article{baker2017event,\n",
    "  title={Event count distributions from renewal processes: fast computation of probabilities},\n",
    "  author={Baker, Rose and Kharrat, Tarak},\n",
    "  journal={IMA Journal of Management Mathematics},\n",
    "  volume={29},\n",
    "  number={4},\n",
    "  pages={415--433},\n",
    "  year={2017},\n",
    "  publisher={Oxford University Press}\n",
    "}\n",
    "\n",
    "@article{kharrat2019flexible,\n",
    "  title={Flexible regression models for count data based on renewal processes: The Countr package},\n",
    "  author={Kharrat, Tarak and Boshnakov, Georgi N and McHale, Ian and Baker, Rose},\n",
    "  journal={Journal of Statistical Software},\n",
    "  volume={90},\n",
    "  number={13},\n",
    "  pages={1--35},\n",
    "  year={2019}\n",
    "}\n",
    "\n",
    "@article{kharrat2019plus,\n",
    "  title={Plus-minus player ratings for soccer},\n",
    "  author={Kharrat, Tarak and Pe{\\~n}a, Javier L{\\'o}pez and McHale, Ian G},\n",
    "  journal={European Journal of Operational Research},\n",
    "  year={2019}\n",
    "  url={https://doi.org/10.1016/j.ejor.2019.11.026}                                              \n",
    "  publisher={Elsevier}\n",
    "}\n",
    "\n",
    "-->     "
   ]
  },
  {
   "cell_type": "code",
   "execution_count": null,
   "metadata": {},
   "outputs": [],
   "source": []
  }
 ],
 "metadata": {
  "kernelspec": {
   "display_name": "Python 3",
   "language": "python",
   "name": "python3"
  },
  "language_info": {
   "codemirror_mode": {
    "name": "ipython",
    "version": 3
   },
   "file_extension": ".py",
   "mimetype": "text/x-python",
   "name": "python",
   "nbconvert_exporter": "python",
   "pygments_lexer": "ipython3",
   "version": "3.7.4"
  }
 },
 "nbformat": 4,
 "nbformat_minor": 2
}
